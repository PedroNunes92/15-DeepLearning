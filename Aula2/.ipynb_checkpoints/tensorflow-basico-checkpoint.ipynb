{
 "cells": [
  {
   "cell_type": "markdown",
   "metadata": {},
   "source": [
    "# Tensorflow\n",
    "* Elementos Básicos da Linguagem"
   ]
  },
  {
   "cell_type": "markdown",
   "metadata": {},
   "source": [
    "## Instalando tensorflow\n",
    "* conda install tensorflow\n",
    "* conda install tensorflow-gpu"
   ]
  },
  {
   "cell_type": "code",
   "execution_count": 1,
   "metadata": {},
   "outputs": [
    {
     "name": "stdout",
     "output_type": "stream",
     "text": [
      "2.2.0\n"
     ]
    }
   ],
   "source": [
    "import numpy as np\n",
    "import tensorflow as tf; \n",
    "print(tf.__version__)"
   ]
  },
  {
   "cell_type": "markdown",
   "metadata": {},
   "source": [
    "## Modo eager executado por padrão no Tensorflow 2"
   ]
  },
  {
   "cell_type": "code",
   "execution_count": null,
   "metadata": {},
   "outputs": [],
   "source": [
    "if(tf.executing_eagerly()):\n",
    "    print('Eager execution is enabled (running operations immediately)\\n')\n",
    "    print(('Turn eager execution off by running: \\n{0}\\n{1}').format('' \\\n",
    "        'from tensorflow.python.framework.ops import disable_eager_execution', \\\n",
    "        'disable_eager_execution()'))\n",
    "else:\n",
    "    print('You are not running eager execution. TensorFlow version >= 2.0.0' \\\n",
    "          'has eager execution enabled by default.')\n",
    "    print(('Turn on eager execution by running: \\n\\n{0}\\n\\nOr upgrade '\\\n",
    "           'your tensorflow version by running:\\n\\n{1}').format(\n",
    "           'tf.compat.v1.enable_eager_execution()',\n",
    "           '!pip install --upgrade tensorflow\\n' \\\n",
    "           '!pip install --upgrade tensorflow-gpu'))"
   ]
  },
  {
   "cell_type": "markdown",
   "metadata": {},
   "source": [
    "# Como desligar modo eager\n"
   ]
  },
  {
   "cell_type": "code",
   "execution_count": null,
   "metadata": {},
   "outputs": [],
   "source": [
    "from tensorflow.python.framework.ops import disable_eager_execution\n",
    "disable_eager_execution()"
   ]
  },
  {
   "cell_type": "markdown",
   "metadata": {},
   "source": [
    "# Retornar ao modo eager (é necessário reiniciar o kernel)"
   ]
  },
  {
   "cell_type": "code",
   "execution_count": null,
   "metadata": {},
   "outputs": [],
   "source": [
    "tf.compat.v1.enable_eager_execution()"
   ]
  },
  {
   "cell_type": "markdown",
   "metadata": {},
   "source": [
    "# Versão 1 do tensorflow\n",
    "\n",
    "* Executando grafo computacional"
   ]
  },
  {
   "cell_type": "code",
   "execution_count": null,
   "metadata": {},
   "outputs": [],
   "source": [
    "# criar sessão\n",
    "tf.compat.v1.Session(\n",
    "    target='', graph=None, config=None\n",
    ")\n",
    "\n",
    "print(tf.__version__)\n",
    "\n",
    "# construir o graph.\n",
    "a = tf.constant(5.0)\n",
    "b = tf.constant(2.3)\n",
    "c = a * b\n",
    "\n",
    "#  carregar o grafo na sessão\n",
    "sess = tf.compat.v1.Session()\n",
    "\n",
    "# Executar o grafo\n",
    "print(sess.run(c))"
   ]
  },
  {
   "cell_type": "markdown",
   "metadata": {},
   "source": [
    "# Exemplo de multiplicação de dois valores constante usando tensorflow"
   ]
  },
  {
   "cell_type": "code",
   "execution_count": 2,
   "metadata": {},
   "outputs": [
    {
     "name": "stdout",
     "output_type": "stream",
     "text": [
      "tf.Tensor(15, shape=(), dtype=int32)\n",
      "15\n"
     ]
    }
   ],
   "source": [
    "a = tf.constant(5)\n",
    "b = tf.constant(3)\n",
    "c = a * b\n",
    "# mostra o objeto tensor\n",
    "print(c)\n",
    "# mostra apenas o valor\n",
    "tf.print(c)\n",
    "\n"
   ]
  },
  {
   "cell_type": "markdown",
   "metadata": {},
   "source": [
    "# conversão numpy tensor <-> tensor numpy"
   ]
  },
  {
   "cell_type": "code",
   "execution_count": 3,
   "metadata": {},
   "outputs": [
    {
     "name": "stdout",
     "output_type": "stream",
     "text": [
      "5\n",
      "<class 'numpy.int32'>\n",
      "tf.Tensor(5, shape=(), dtype=int32)\n"
     ]
    }
   ],
   "source": [
    "c = tf.constant(5)\n",
    "\n",
    "#converte o tensor para numpy\n",
    "numpyC = c.numpy()\n",
    "print(numpyC)\n",
    "print(type(numpyC))\n",
    "\n",
    "#convert numpy para tensor\n",
    "cc=tf.convert_to_tensor(numpyC)\n",
    "print(cc)"
   ]
  },
  {
   "cell_type": "markdown",
   "metadata": {},
   "source": [
    "# Verificar se há GPU disponível para uso\n",
    "* list_physical_devices()"
   ]
  },
  {
   "cell_type": "code",
   "execution_count": 4,
   "metadata": {},
   "outputs": [
    {
     "name": "stdout",
     "output_type": "stream",
     "text": [
      "[PhysicalDevice(name='/physical_device:CPU:0', device_type='CPU'), PhysicalDevice(name='/physical_device:XLA_CPU:0', device_type='XLA_CPU'), PhysicalDevice(name='/physical_device:GPU:0', device_type='GPU'), PhysicalDevice(name='/physical_device:XLA_GPU:0', device_type='XLA_GPU')]\n"
     ]
    }
   ],
   "source": [
    "print(tf.config.list_physical_devices())"
   ]
  },
  {
   "cell_type": "code",
   "execution_count": 5,
   "metadata": {},
   "outputs": [
    {
     "name": "stdout",
     "output_type": "stream",
     "text": [
      "[PhysicalDevice(name='/physical_device:GPU:0', device_type='GPU')]\n",
      "WARNING:tensorflow:From <ipython-input-5-8db21c955b8a>:4: is_gpu_available (from tensorflow.python.framework.test_util) is deprecated and will be removed in a future version.\n",
      "Instructions for updating:\n",
      "Use `tf.config.list_physical_devices('GPU')` instead.\n",
      "Is your GPU available for use?\n",
      "Yes, your GPU is available: True\n",
      "\n",
      "Your devices that are available:\n",
      "['/physical_device:CPU:0', '/physical_device:XLA_CPU:0', '/physical_device:GPU:0', '/physical_device:XLA_GPU:0']\n"
     ]
    }
   ],
   "source": [
    "print(tf.config.list_physical_devices('GPU'))\n",
    "\n",
    "print(('Is your GPU available for use?\\n{0}').format(\n",
    "    'Yes, your GPU is available: True' if tf.test.is_gpu_available() == True else 'No, your GPU is NOT available: False'\n",
    "))\n",
    "\n",
    "print(('\\nYour devices that are available:\\n{0}').format(\n",
    "    [device.name for device in tf.config.experimental.list_physical_devices()]\n",
    "))"
   ]
  },
  {
   "cell_type": "code",
   "execution_count": null,
   "metadata": {},
   "outputs": [],
   "source": []
  },
  {
   "cell_type": "markdown",
   "metadata": {},
   "source": [
    "# Escolhendo o device que vai executar o código TF GPU e CPU para comparar tempo\n",
    "* tf.device"
   ]
  },
  {
   "cell_type": "code",
   "execution_count": 7,
   "metadata": {},
   "outputs": [
    {
     "name": "stdout",
     "output_type": "stream",
     "text": [
      "tf.Tensor(\n",
      "[[1. 0. 0. ... 0. 0. 0.]\n",
      " [0. 1. 0. ... 0. 0. 0.]\n",
      " [0. 0. 1. ... 0. 0. 0.]\n",
      " ...\n",
      " [0. 0. 0. ... 0. 0. 0.]\n",
      " [0. 0. 0. ... 0. 0. 0.]\n",
      " [0. 0. 0. ... 0. 0. 0.]], shape=(20000, 10000), dtype=float32)\n",
      "CPU:  0.3220505714416504\n",
      "tf.Tensor(\n",
      "[[1. 0. 0. ... 0. 0. 0.]\n",
      " [0. 1. 0. ... 0. 0. 0.]\n",
      " [0. 0. 1. ... 0. 0. 0.]\n",
      " ...\n",
      " [0. 0. 0. ... 0. 0. 0.]\n",
      " [0. 0. 0. ... 0. 0. 0.]\n",
      " [0. 0. 0. ... 0. 0. 0.]], shape=(20000, 10000), dtype=float32)\n",
      "GPU:  0.5593972206115723\n"
     ]
    }
   ],
   "source": [
    "import time\n",
    "\n",
    "cpu_slot = 0\n",
    "gpu_slot = 0\n",
    "\n",
    "# Using CPU at slot 0\n",
    "with tf.device('/CPU:' + str(cpu_slot)):\n",
    "    # Starting a timer\n",
    "    start = time.time()\n",
    "\n",
    "    # Doing operations on CPU\n",
    "    print(tf.eye(20000,10000))\n",
    "\n",
    "    # Printing how long it took with CPU\n",
    "    end = time.time() - start\n",
    "    print(\"CPU: \", end)\n",
    "\n",
    "# Using the GPU at slot 0\n",
    "with tf.device('/GPU:' + str(gpu_slot)):\n",
    "    # Starting a timer\n",
    "    start = time.time()\n",
    "\n",
    "    # Doing operations on CPU\n",
    "\n",
    "    print(tf.eye(20000,10000))\n",
    "\n",
    "    # Printing how long it took with CPU\n",
    "    end = time.time() - start\n",
    "    print(\"GPU: \",end)"
   ]
  },
  {
   "cell_type": "markdown",
   "metadata": {},
   "source": [
    "# Operações Comuns com Tensorflow\n",
    "\n",
    "* Montando tensores com tf.constant e tf.Variable\n",
    "* Concatenação de dois tensores com tf.concat\n",
    "* Montando tensores com tf.zeros ou tf.ones\n",
    "* Remodelando  com tf.reshape\n",
    "* Cast de tensores para outros tipos de dados com tf.cast\n"
   ]
  },
  {
   "cell_type": "markdown",
   "metadata": {},
   "source": [
    "## Montando tensores"
   ]
  },
  {
   "cell_type": "code",
   "execution_count": 10,
   "metadata": {},
   "outputs": [],
   "source": [
    "# Making a constant tensor A, that does not change\n",
    "A = tf.constant([[3, 2],\n",
    "                 [5, 2]])\n",
    "\n",
    "# Making a Variable tensor VA, which can change. Notice it's .Variable\n",
    "VA = tf.Variable([[3, 2],\n",
    "                 [5, 2]])\n",
    "\n",
    "# Making another tensor B\n",
    "B = tf.constant([[9, 5],\n",
    "                 [1, 3]])"
   ]
  },
  {
   "cell_type": "code",
   "execution_count": 12,
   "metadata": {},
   "outputs": [
    {
     "data": {
      "text/plain": [
       "<tf.Tensor: shape=(2, 2), dtype=int32, numpy=\n",
       "array([[9, 5],\n",
       "       [1, 3]], dtype=int32)>"
      ]
     },
     "execution_count": 12,
     "metadata": {},
     "output_type": "execute_result"
    }
   ],
   "source": [
    "A=B\n",
    "A"
   ]
  },
  {
   "cell_type": "markdown",
   "metadata": {},
   "source": [
    "## Concatenção"
   ]
  },
  {
   "cell_type": "code",
   "execution_count": 13,
   "metadata": {},
   "outputs": [
    {
     "name": "stdout",
     "output_type": "stream",
     "text": [
      "Adding B's columns to A:\n",
      "[[3 2 9 5]\n",
      " [5 2 1 3]]\n",
      "\n",
      "Adding B's rows to A:\n",
      "[[3 2]\n",
      " [5 2]\n",
      " [9 5]\n",
      " [1 3]]\n"
     ]
    }
   ],
   "source": [
    "# Making a constant tensor A, that does not change\n",
    "A = tf.constant([[3, 2],\n",
    "                 [5, 2]])\n",
    "\n",
    "# Making a Variable tensor VA, which can change. Notice it's .Variable\n",
    "VA = tf.Variable([[3, 2],\n",
    "                 [5, 2]])\n",
    "\n",
    "# Making another tensor B\n",
    "B = tf.constant([[9, 5],\n",
    "                 [1, 3]])\n",
    "\n",
    "# Concatenate columns\n",
    "AB_concatenated = tf.concat(values=[A, B], axis=1)\n",
    "print(('Adding B\\'s columns to A:\\n{0}').format(\n",
    "    AB_concatenated.numpy()\n",
    "))\n",
    "\n",
    "# Concatenate rows\n",
    "AB_concatenated = tf.concat(values=[A, B], axis=0)\n",
    "print(('\\nAdding B\\'s rows to A:\\n{0}').format(\n",
    "    AB_concatenated.numpy()\n",
    "))"
   ]
  },
  {
   "cell_type": "markdown",
   "metadata": {},
   "source": [
    "## Criando tensores com apenas zeros ou uns"
   ]
  },
  {
   "cell_type": "code",
   "execution_count": 14,
   "metadata": {},
   "outputs": [
    {
     "name": "stdout",
     "output_type": "stream",
     "text": [
      "Tensor full of zeros as int32, 3 rows and 4 columns:\n",
      "[[0 0 0 0]\n",
      " [0 0 0 0]\n",
      " [0 0 0 0]]\n",
      "\n",
      "Tensor full of ones as float32, 5 rows and 3 columns:\n",
      "[[1. 1. 1.]\n",
      " [1. 1. 1.]\n",
      " [1. 1. 1.]\n",
      " [1. 1. 1.]\n",
      " [1. 1. 1.]]\n"
     ]
    }
   ],
   "source": [
    "# Making a tensor filled with zeros. shape=[rows, columns]\n",
    "tensor = tf.zeros(shape=[3, 4], dtype=tf.int32)\n",
    "print(('Tensor full of zeros as int32, 3 rows and 4 columns:\\n{0}').format(\n",
    "    tensor.numpy()\n",
    "))\n",
    "\n",
    "# Making a tensor filled with zeros with data type of float32\n",
    "tensor = tf.ones(shape=[5, 3], dtype=tf.float32)\n",
    "print(('\\nTensor full of ones as float32, 5 rows and 3 columns:\\n{0}').format(\n",
    "    tensor.numpy()\n",
    "))"
   ]
  },
  {
   "cell_type": "markdown",
   "metadata": {},
   "source": [
    "## Reshape"
   ]
  },
  {
   "cell_type": "code",
   "execution_count": 15,
   "metadata": {},
   "outputs": [
    {
     "name": "stdout",
     "output_type": "stream",
     "text": [
      "Tensor BEFORE reshape:\n",
      "[[3 2]\n",
      " [5 2]\n",
      " [9 5]\n",
      " [1 3]]\n",
      "\n",
      "Tensor AFTER reshape:\n",
      "[[3 2 5 2 9 5 1 3]]\n"
     ]
    }
   ],
   "source": [
    "# Making a tensor for reshaping\n",
    "tensor = tf.constant([[3, 2],\n",
    "                      [5, 2],\n",
    "                      [9, 5],\n",
    "                      [1, 3]])\n",
    "\n",
    "# Reshaping the tensor into a shape of: shape = [rows, columns]\n",
    "reshaped_tensor = tf.reshape(tensor = tensor,\n",
    "                             shape = [1, 8])\n",
    "\n",
    "print(('Tensor BEFORE reshape:\\n{0}').format(\n",
    "    tensor.numpy()\n",
    "))\n",
    "print(('\\nTensor AFTER reshape:\\n{0}').format(\n",
    "    reshaped_tensor.numpy()\n",
    "))"
   ]
  },
  {
   "cell_type": "markdown",
   "metadata": {},
   "source": [
    "## Cast"
   ]
  },
  {
   "cell_type": "code",
   "execution_count": 16,
   "metadata": {},
   "outputs": [
    {
     "name": "stdout",
     "output_type": "stream",
     "text": [
      "Tensor with floats:\n",
      "[[3.1 2.8]\n",
      " [5.2 2.3]\n",
      " [9.7 5.5]\n",
      " [1.1 3.4]]\n",
      "\n",
      "Tensor cast from float to int (just remove the decimal, no rounding):\n",
      "[[3 2]\n",
      " [5 2]\n",
      " [9 5]\n",
      " [1 3]]\n"
     ]
    }
   ],
   "source": [
    "# Making a tensor\n",
    "tensor = tf.constant([[3.1, 2.8],\n",
    "                      [5.2, 2.3],\n",
    "                      [9.7, 5.5],\n",
    "                      [1.1, 3.4]], \n",
    "                      dtype=tf.float32)\n",
    "\n",
    "tensor_as_int = tf.cast(tensor, tf.int32)\n",
    "\n",
    "print(('Tensor with floats:\\n{0}').format(\n",
    "    tensor.numpy()\n",
    "))\n",
    "print(('\\nTensor cast from float to int (just remove the decimal, no rounding):\\n{0}').format(\n",
    "    tensor_as_int.numpy()\n",
    "))"
   ]
  },
  {
   "cell_type": "markdown",
   "metadata": {},
   "source": [
    "## Algebra Linear\n",
    "\n",
    "* Transpor o tensor com tf.transpose\n",
    "* Multiplicação de matrizes com tf.matmul\n",
    "* Multiplicação por elementos com tf.multiply\n",
    "* Matriz identidade com tf.eye\n",
    "* Determinante com tf.linalg.det\n",
    "* Produto de ponto com tf.tensordot"
   ]
  },
  {
   "cell_type": "markdown",
   "metadata": {},
   "source": [
    "## Transpose"
   ]
  },
  {
   "cell_type": "code",
   "execution_count": 17,
   "metadata": {},
   "outputs": [
    {
     "name": "stdout",
     "output_type": "stream",
     "text": [
      "The transposed matrix A:\n",
      "[[3 1]\n",
      " [7 9]]\n"
     ]
    }
   ],
   "source": [
    "# Some Matrix A\n",
    "A = tf.constant([[3, 7],\n",
    "                 [1, 9]])\n",
    "\n",
    "A = tf.transpose(A)\n",
    "\n",
    "print(('The transposed matrix A:\\n{0}').format(\n",
    "    A\n",
    "))"
   ]
  },
  {
   "cell_type": "markdown",
   "metadata": {},
   "source": [
    "## Multiplicação de Matrizes"
   ]
  },
  {
   "cell_type": "code",
   "execution_count": 18,
   "metadata": {},
   "outputs": [
    {
     "name": "stdout",
     "output_type": "stream",
     "text": [
      "Matrix Multiplication of A and v results in a new Tensor:\n",
      "[[29 27]\n",
      " [23 29]]\n",
      "tf.Tensor(\n",
      "[[114 446]\n",
      " [ 98 422]], shape=(2, 2), dtype=int32)\n"
     ]
    }
   ],
   "source": [
    "# Some Matrix A\n",
    "A = tf.constant([[3, 7],\n",
    "                 [1, 9]])\n",
    "\n",
    "# Some vector v\n",
    "v = tf.constant([[5, 2],\n",
    "                 [2, 3]])\n",
    "\n",
    "# Matrix multiplication of A.v^T\n",
    "Av = tf.matmul(A, v)\n",
    "\n",
    "print(('Matrix Multiplication of A and v results in a new Tensor:\\n{0}').format(\n",
    "    Av\n",
    "))\n",
    "\n",
    "v = tf.matmul(Av, A)\n",
    "print(v)"
   ]
  },
  {
   "cell_type": "markdown",
   "metadata": {},
   "source": [
    "## Multiplicação de matrix por um elemento"
   ]
  },
  {
   "cell_type": "code",
   "execution_count": 19,
   "metadata": {},
   "outputs": [
    {
     "name": "stdout",
     "output_type": "stream",
     "text": [
      "Element-wise multiplication of A and v results in a new Tensor:\n",
      "[[ 9 21]\n",
      " [ 3 27]]\n"
     ]
    }
   ],
   "source": [
    "# Element-wise multiplication\n",
    "v = tf.constant([3])\n",
    "Av = tf.multiply(A, v)\n",
    "\n",
    "print(('Element-wise multiplication of A and v results in a new Tensor:\\n{0}').format(\n",
    "    Av\n",
    "))"
   ]
  },
  {
   "cell_type": "markdown",
   "metadata": {},
   "source": [
    "## Calculando matriz Identidade"
   ]
  },
  {
   "cell_type": "code",
   "execution_count": 20,
   "metadata": {},
   "outputs": [
    {
     "name": "stdout",
     "output_type": "stream",
     "text": [
      "Get rows and columns in tensor A:\n",
      "3 rows\n",
      "2 columns\n",
      "\n",
      "The identity matrix of A:\n",
      "[[1 0]\n",
      " [0 1]\n",
      " [0 0]]\n"
     ]
    }
   ],
   "source": [
    "# Some Matrix A\n",
    "A = tf.constant([[3, 7],\n",
    "                 [1, 9],\n",
    "                 [2, 5]])\n",
    "\n",
    "# Get number of dimensions\n",
    "rows, columns = A.shape\n",
    "print(('Get rows and columns in tensor A:\\n{0} rows\\n{1} columns').format(\n",
    "    rows, columns\n",
    "))\n",
    "\n",
    "# Making identity matrix\n",
    "A_identity = tf.eye(num_rows = rows,\n",
    "                    num_columns = columns,\n",
    "                    dtype = tf.int32)\n",
    "print(('\\nThe identity matrix of A:\\n{0}').format(\n",
    "    A_identity.numpy()\n",
    "))"
   ]
  },
  {
   "cell_type": "markdown",
   "metadata": {},
   "source": [
    "## Determinante"
   ]
  },
  {
   "cell_type": "code",
   "execution_count": 21,
   "metadata": {},
   "outputs": [
    {
     "name": "stdout",
     "output_type": "stream",
     "text": [
      "The determinant of A:\n",
      "20.000001907348633\n"
     ]
    }
   ],
   "source": [
    "# Reusing Matrix A\n",
    "A = tf.constant([[3, 7],\n",
    "                 [1, 9]])\n",
    "\n",
    "# Determinant must be: half, float32, float64, complex64, complex128\n",
    "# Thus, we cast A to the data type float32\n",
    "A = tf.dtypes.cast(A, tf.float32)\n",
    "\n",
    "# Finding the determinant of A\n",
    "det_A = tf.linalg.det(A)\n",
    "\n",
    "print(('The determinant of A:\\n{0}').format(\n",
    "    det_A\n",
    "))"
   ]
  },
  {
   "cell_type": "code",
   "execution_count": null,
   "metadata": {},
   "outputs": [],
   "source": []
  },
  {
   "cell_type": "markdown",
   "metadata": {},
   "source": [
    "## Dot Product"
   ]
  },
  {
   "cell_type": "code",
   "execution_count": 22,
   "metadata": {},
   "outputs": [
    {
     "name": "stdout",
     "output_type": "stream",
     "text": [
      "Dot product of A.B^T results in a new Tensor:\n",
      "[[8634 2719 8750]\n",
      " [2939 1329 2975]\n",
      " [7573 5341 7545]]\n"
     ]
    }
   ],
   "source": [
    "# Defining a 3x3 matrix\n",
    "A = tf.constant([[32, 83, 5],\n",
    "                 [17, 23, 10],\n",
    "                 [75, 39, 52]])\n",
    "\n",
    "#A = tf.constant([[32, 83],\n",
    "#                 [17, 23]])\n",
    "\n",
    "\n",
    "# Defining another 3x3 matrix\n",
    "B = tf.constant([[28, 57, 20],\n",
    "                 [91, 10, 95],\n",
    "                 [37, 13, 45]])\n",
    "\n",
    "# Finding the dot product\n",
    "dot_AB = tf.tensordot(a=A, b=B, axes=1).numpy()\n",
    "\n",
    "print(('Dot product of A.B^T results in a new Tensor:\\n{0}').format(\n",
    "    dot_AB\n",
    "))\n",
    "\n",
    "# Which is the same as matrix multiplication in this instance (axes=1)\n",
    "# Matrix multiplication of A and B\n",
    "#AB = tf.matmul(A, B)\n",
    "\n",
    "#print(('\\nMatrix Multiplication of A.B^T results in a new Tensor:\\n{0}').format(\n",
    "#AB\n",
    "#))"
   ]
  },
  {
   "cell_type": "markdown",
   "metadata": {},
   "source": [
    "# Soma de elementos - reduzida por dimensão"
   ]
  },
  {
   "cell_type": "code",
   "execution_count": 26,
   "metadata": {},
   "outputs": [
    {
     "name": "stdout",
     "output_type": "stream",
     "text": [
      "tf.Tensor([12 15 18], shape=(3,), dtype=int32)\n",
      "tf.Tensor([ 6 15 24], shape=(3,), dtype=int32)\n",
      "tf.Tensor(45, shape=(), dtype=int32)\n"
     ]
    }
   ],
   "source": [
    "A = tf.constant([[1, 2, 3],\n",
    "                 [4, 5, 6],\n",
    "                 [7, 8, 9]])\n",
    "\n",
    "\n",
    "B=tf.math.reduce_sum(A, axis=0)\n",
    "print(B)\n",
    "C=tf.math.reduce_sum(A, axis=1)\n",
    "print(C)\n",
    "D=tf.reduce_sum(A)\n",
    "print(D)"
   ]
  },
  {
   "cell_type": "markdown",
   "metadata": {},
   "source": [
    "# redimensionamento\n",
    "* expand_dim : modifica a dimensão do vetor\n",
    "* tile : replica elementos em uma dimensão"
   ]
  },
  {
   "cell_type": "code",
   "execution_count": 34,
   "metadata": {},
   "outputs": [
    {
     "name": "stdout",
     "output_type": "stream",
     "text": [
      "tf.Tensor(\n",
      "[[  1   2   3   4   5]\n",
      " [ 10  20  30  40  50]\n",
      " [100 200 300 400 500]], shape=(3, 5), dtype=int32)\n",
      "tf.Tensor(\n",
      "[[[  1   2   3   4   5]]\n",
      "\n",
      " [[ 10  20  30  40  50]]\n",
      "\n",
      " [[100 200 300 400 500]]], shape=(3, 1, 5), dtype=int32)\n",
      "tf.Tensor(\n",
      "[[[  1   2   3   4   5]\n",
      "  [  1   2   3   4   5]\n",
      "  [  1   2   3   4   5]]\n",
      "\n",
      " [[ 10  20  30  40  50]\n",
      "  [ 10  20  30  40  50]\n",
      "  [ 10  20  30  40  50]]\n",
      "\n",
      " [[100 200 300 400 500]\n",
      "  [100 200 300 400 500]\n",
      "  [100 200 300 400 500]]], shape=(3, 3, 5), dtype=int32)\n",
      "tf.Tensor(\n",
      "[[[  1   2   3   4   5]\n",
      "  [  1   2   3   4   5]]\n",
      "\n",
      " [[ 10  20  30  40  50]\n",
      "  [ 10  20  30  40  50]]\n",
      "\n",
      " [[100 200 300 400 500]\n",
      "  [100 200 300 400 500]]], shape=(3, 2, 5), dtype=int32)\n"
     ]
    }
   ],
   "source": [
    "v = tf.constant([[1 ,  2 ,  3 , 4   , 5 ],\n",
    "       [ 10 ,  20 ,  30 , 40   , 50],\n",
    "       [100 ,  200 ,  300 , 400   , 500 ]])\n",
    "print(v)\n",
    "v2=tf.expand_dims(v, 1)\n",
    "print(v2)\n",
    "m = tf.shape(v2)[0]\n",
    "v3= tf.tile(v2, [1, m,1])\n",
    "print(v3)\n",
    "v4= tf.tile(v2, [1, 2,1])\n",
    "print(v4)"
   ]
  },
  {
   "cell_type": "code",
   "execution_count": null,
   "metadata": {},
   "outputs": [],
   "source": []
  },
  {
   "cell_type": "markdown",
   "metadata": {},
   "source": [
    "# Exemplos de aplicações"
   ]
  },
  {
   "cell_type": "markdown",
   "metadata": {},
   "source": [
    "# Diferença de números primos\n",
    "\n",
    "Dado um vetor de números primos, queremos criar um novo vetor, que é formado da seguinte forma:\n",
    "\n",
    "O primeiro elemento é igual a diferença entre o primeiro elemento do vetor original elevado ao quadrado e o segundo elemento do vetor original elevado ao quadrado\n",
    "\n",
    "Vetor: [2, 3, 5, 7, 11, 13, 17, 19, 23]\n",
    "\n",
    "Por exemplo, o primeiro elemento do novo vetor é $|2^2 - 3^2| = 5$\n",
    "Crie esse vetor usando operações do TensorFlow."
   ]
  },
  {
   "cell_type": "code",
   "execution_count": 36,
   "metadata": {},
   "outputs": [
    {
     "name": "stdout",
     "output_type": "stream",
     "text": [
      "tf.Tensor([ 3  5  7 11 13 17 19 23 29], shape=(9,), dtype=int32)\n",
      "tf.Tensor([  5  16  24  72  48 120  72 168 312], shape=(9,), dtype=int32)\n",
      "Passed\n"
     ]
    }
   ],
   "source": [
    "prime_numbers = tf.constant([2, 3, 5, 7, 11, 13, 17, 19, 23])\n",
    "\n",
    "shifted_prime_numbers = tf.concat([prime_numbers[1:], [29]], axis=0)\n",
    "print(shifted_prime_numbers)\n",
    "\n",
    "#abs - valor absoluto\n",
    "diffs = tf.abs(tf.square(prime_numbers) - tf.square(shifted_prime_numbers))\n",
    "\n",
    "print(diffs)\n",
    "assert tf.math.reduce_all(diffs == tf.constant([5,  16,  24,  72,  48, 120,  72, 168, 312])).numpy()\n",
    "print(\"Passed\")"
   ]
  },
  {
   "cell_type": "markdown",
   "metadata": {},
   "source": [
    "### Distancia Euclidiana Normalizada\n",
    "\n",
    "Considere dois conjuntos de vetores n-dimensionais. Todos os vetores (independente do conjunto) devem ter a mesma quantidade de colunas. O objetivo é calcular a distância euclidiana normalizada (intervalor entre 0 e 1) entre cada vetor dos dois conjuntos.\n",
    "Dado\n",
    " $S_1 \\in R^{m \\times d}$ and $S_1 \\in R^{n \\times d}$, queremos calcular o $X \\in R^{m \\times n}$. \n",
    " \n",
    "Distância euclidiana normalizada:\n",
    "\n",
    "$$\n",
    "dist = \\sqrt{(V_1 - W_1)^2 + ... +\\:(W_d - W_d)^2}\n",
    "$$\n",
    "\n",
    "Resposta linhas representam a quantidade de vetores no primeiro conjunto e colunas quantidade de vetores no segundo conjunto"
   ]
  },
  {
   "cell_type": "code",
   "execution_count": 38,
   "metadata": {},
   "outputs": [],
   "source": [
    "def euclidean_norm_distance(v, w):\n",
    "  # v = (3, 5)\n",
    "  # w = (2, 5)\n",
    "  n = tf.shape(v)[0] # 3\n",
    "  m = tf.shape(w)[0] # 2\n",
    "\n",
    "  v = tf.tile(tf.expand_dims(v, 1), [1, m, 1]) # (n, m, d)\n",
    "  print(\"v \", v)\n",
    "  w = tf.tile(tf.expand_dims(w, 1), [1, n, 1]) # (m, n, d)\n",
    "  print(\"w1 \", w)\n",
    "  #ordem da trasposição []  \n",
    "  w = tf.transpose(w, [1, 0, 2]) # (n, m, d)\n",
    "  print(\"w2 \", w)\n",
    "  \n",
    "  print(\"dist \")\n",
    "  distances = (v - w) # (n, m, d)\n",
    "  print(distances.shape)\n",
    "  print(distances)\n",
    "    \n",
    "  distances = distances ** 2 # (n, m, d)\n",
    "  print(distances.shape)\n",
    "  print(distances)\n",
    "\n",
    "  distances = tf.math.reduce_sum(distances, axis=2) # (n, m)\n",
    "  print(distances.shape)\n",
    "  print(distances)\n",
    "    \n",
    "  distances = tf.math.sqrt(distances) # (n, m)\n",
    "  print(distances)\n",
    "\n",
    "  sum_distances = tf.reshape(tf.math.reduce_sum(distances, axis=1), [-1, 1]) # (n, 1)\n",
    "  print(sum_distances)  \n",
    "\n",
    "  distances = distances / sum_distances # (n, m)\n",
    "  print(distances)  \n",
    "    \n",
    "  return distances"
   ]
  },
  {
   "cell_type": "code",
   "execution_count": 39,
   "metadata": {},
   "outputs": [
    {
     "name": "stdout",
     "output_type": "stream",
     "text": [
      "tf.Tensor(\n",
      "[[-1.8897635   0.7396171   0.4683413   2.35642    -0.8153529 ]\n",
      " [ 1.3100415   0.6090922   0.70573515  0.07053893 -0.20450763]\n",
      " [-0.14293706 -0.94566655  0.41517866  0.9539284  -0.9522885 ]], shape=(3, 5), dtype=float32)\n",
      "tf.Tensor(\n",
      "[[ 0.4980808   0.12677321 -1.6533084   1.2168828   0.351612  ]\n",
      " [-0.35999015 -1.013327   -1.4144444   0.83520454  1.4889846 ]], shape=(2, 5), dtype=float32)\n",
      "v  tf.Tensor(\n",
      "[[[-1.8897635   0.7396171   0.4683413   2.35642    -0.8153529 ]\n",
      "  [-1.8897635   0.7396171   0.4683413   2.35642    -0.8153529 ]]\n",
      "\n",
      " [[ 1.3100415   0.6090922   0.70573515  0.07053893 -0.20450763]\n",
      "  [ 1.3100415   0.6090922   0.70573515  0.07053893 -0.20450763]]\n",
      "\n",
      " [[-0.14293706 -0.94566655  0.41517866  0.9539284  -0.9522885 ]\n",
      "  [-0.14293706 -0.94566655  0.41517866  0.9539284  -0.9522885 ]]], shape=(3, 2, 5), dtype=float32)\n",
      "w1  tf.Tensor(\n",
      "[[[ 0.4980808   0.12677321 -1.6533084   1.2168828   0.351612  ]\n",
      "  [ 0.4980808   0.12677321 -1.6533084   1.2168828   0.351612  ]\n",
      "  [ 0.4980808   0.12677321 -1.6533084   1.2168828   0.351612  ]]\n",
      "\n",
      " [[-0.35999015 -1.013327   -1.4144444   0.83520454  1.4889846 ]\n",
      "  [-0.35999015 -1.013327   -1.4144444   0.83520454  1.4889846 ]\n",
      "  [-0.35999015 -1.013327   -1.4144444   0.83520454  1.4889846 ]]], shape=(2, 3, 5), dtype=float32)\n",
      "w2  tf.Tensor(\n",
      "[[[ 0.4980808   0.12677321 -1.6533084   1.2168828   0.351612  ]\n",
      "  [-0.35999015 -1.013327   -1.4144444   0.83520454  1.4889846 ]]\n",
      "\n",
      " [[ 0.4980808   0.12677321 -1.6533084   1.2168828   0.351612  ]\n",
      "  [-0.35999015 -1.013327   -1.4144444   0.83520454  1.4889846 ]]\n",
      "\n",
      " [[ 0.4980808   0.12677321 -1.6533084   1.2168828   0.351612  ]\n",
      "  [-0.35999015 -1.013327   -1.4144444   0.83520454  1.4889846 ]]], shape=(3, 2, 5), dtype=float32)\n",
      "dist \n",
      "(3, 2, 5)\n",
      "tf.Tensor(\n",
      "[[[-2.3878443   0.6128439   2.1216497   1.1395372  -1.1669649 ]\n",
      "  [-1.5297734   1.7529441   1.8827858   1.5212154  -2.3043375 ]]\n",
      "\n",
      " [[ 0.81196076  0.48231897  2.3590436  -1.146344   -0.5561196 ]\n",
      "  [ 1.6700317   1.6224191   2.1201797  -0.7646656  -1.6934922 ]]\n",
      "\n",
      " [[-0.64101785 -1.0724398   2.0684872  -0.2629544  -1.3039005 ]\n",
      "  [ 0.21705309  0.06766045  1.8296231   0.11872387 -2.4412732 ]]], shape=(3, 2, 5), dtype=float32)\n",
      "(3, 2, 5)\n",
      "tf.Tensor(\n",
      "[[[5.7018008e+00 3.7557760e-01 4.5013976e+00 1.2985450e+00 1.3618071e+00]\n",
      "  [2.3402064e+00 3.0728133e+00 3.5448823e+00 2.3140965e+00 5.3099713e+00]]\n",
      "\n",
      " [[6.5928024e-01 2.3263156e-01 5.5650864e+00 1.3141044e+00 3.0926904e-01]\n",
      "  [2.7890058e+00 2.6322439e+00 4.4951620e+00 5.8471346e-01 2.8679159e+00]]\n",
      "\n",
      " [[4.1090387e-01 1.1501271e+00 4.2786388e+00 6.9145024e-02 1.7001565e+00]\n",
      "  [4.7112040e-02 4.5779361e-03 3.3475208e+00 1.4095357e-02 5.9598145e+00]]], shape=(3, 2, 5), dtype=float32)\n",
      "(3, 2)\n",
      "tf.Tensor(\n",
      "[[13.239128  16.58197  ]\n",
      " [ 8.080372  13.369041 ]\n",
      " [ 7.6089716  9.37312  ]], shape=(3, 2), dtype=float32)\n",
      "tf.Tensor(\n",
      "[[3.6385612 4.0720963]\n",
      " [2.8425994 3.65637  ]\n",
      " [2.7584364 3.0615551]], shape=(3, 2), dtype=float32)\n",
      "tf.Tensor(\n",
      "[[7.7106576]\n",
      " [6.498969 ]\n",
      " [5.8199916]], shape=(3, 1), dtype=float32)\n",
      "tf.Tensor(\n",
      "[[0.4718873  0.5281127 ]\n",
      " [0.43739235 0.5626077 ]\n",
      " [0.47395885 0.52604115]], shape=(3, 2), dtype=float32)\n",
      "Passed!\n"
     ]
    }
   ],
   "source": [
    "t1 = tf.constant([[-1.8897635 ,  0.7396171 ,  0.4683413 ,  2.35642   , -0.8153529 ],\n",
    "       [ 1.3100415 ,  0.6090922 ,  0.70573515,  0.07053893, -0.20450763],\n",
    "       [-0.14293706, -0.94566655,  0.41517866,  0.9539284 , -0.9522885 ]])\n",
    "t2 = tf.constant([[ 0.4980808 ,  0.12677321, -1.6533084 ,  1.2168828 ,  0.351612  ],\n",
    "       [-0.35999015, -1.013327  , -1.4144444 ,  0.83520454,  1.4889846 ]])\n",
    "\n",
    "print(t1)\n",
    "print(t2)\n",
    "\n",
    "answer = tf.constant([[0.4718873, 0.5281127 ],\n",
    " [0.43739235, 0.5626077 ],\n",
    " [0.47395885, 0.52604115]])\n",
    "\n",
    "assert np.allclose(euclidean_norm_distance(t1, t2).numpy(), answer)\n",
    "print(\"Passed!\")"
   ]
  },
  {
   "cell_type": "code",
   "execution_count": null,
   "metadata": {},
   "outputs": [],
   "source": [
    "t1 = tf.constant([[-1.8897635 ,  0.7396171 ,  0.4683413 ,  2.35642   , -0.8153529 ],\n",
    "       [ 1.3100415 ,  0.6090922 ,  0.70573515,  0.07053893, -0.20450763],\n",
    "       [-0.14293706, -0.94566655,  0.41517866,  0.9539284 , -0.9522885 ],\n",
    "       [-0.22293706, -0.33366655,  0.44517866,  0.94339284 , -0.23422885 ]])\n",
    "t2 = tf.constant([[ 0.4980808 ,  0.12677321, -1.6533084 ,  1.2168828 ,  0.351612  ],\n",
    "       [-0.35999015, -1.013327  , -1.4144444 ,  0.83520454,  1.4889846 ],\n",
    "       [-0.14293706, -0.94566655,  0.41517866,  0.9539284 , -0.9522885 ]])\n",
    "\n",
    "print(t1)\n",
    "print(t2)\n",
    "\n",
    "print(euclidean_norm_distance(t1, t2).numpy())"
   ]
  },
  {
   "cell_type": "code",
   "execution_count": null,
   "metadata": {},
   "outputs": [],
   "source": []
  }
 ],
 "metadata": {
  "kernelspec": {
   "display_name": "Python 3",
   "language": "python",
   "name": "python3"
  },
  "language_info": {
   "codemirror_mode": {
    "name": "ipython",
    "version": 3
   },
   "file_extension": ".py",
   "mimetype": "text/x-python",
   "name": "python",
   "nbconvert_exporter": "python",
   "pygments_lexer": "ipython3",
   "version": "3.8.5"
  }
 },
 "nbformat": 4,
 "nbformat_minor": 4
}
